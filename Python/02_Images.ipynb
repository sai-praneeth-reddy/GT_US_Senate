{
 "cells": [
  {
   "cell_type": "code",
   "execution_count": 2,
   "metadata": {},
   "outputs": [],
   "source": [
    "# Dependencies\n",
    "\n",
    "import pandas as pd\n",
    "\n",
    "from bs4 import BeautifulSoup\n",
    "\n",
    "from splinter import Browser\n",
    "\n",
    "import requests\n",
    "\n",
    "import time\n",
    "\n",
    "import warnings\n",
    "\n",
    "warnings.filterwarnings('ignore')"
   ]
  },
  {
   "cell_type": "markdown",
   "metadata": {},
   "source": [
    "## Extract Senators Names and States"
   ]
  },
  {
   "cell_type": "code",
   "execution_count": 34,
   "metadata": {},
   "outputs": [],
   "source": [
    "# Extract the relevant data\n",
    "\n",
    "url = 'https://en.wikipedia.org/wiki/List_of_current_United_States_senators'\n",
    "\n",
    "tables = pd.read_html(url)\n",
    "\n",
    "data_frame = tables[4]\n",
    "\n",
    "df = data_frame[['State', 'Senator']]"
   ]
  },
  {
   "cell_type": "markdown",
   "metadata": {},
   "source": [
    "## Extract the URL for JPG"
   ]
  },
  {
   "cell_type": "code",
   "execution_count": null,
   "metadata": {},
   "outputs": [],
   "source": [
    "# Install chrome drivers\n",
    "\n",
    "def init_browser():\n",
    "    \n",
    "    # Location of chrome driver, Windows user must update the pathe\n",
    "    \n",
    "    executable_path = {\"executable_path\": \"/usr/local/bin/chromedriver\"}\n",
    "    \n",
    "    return Browser(\"chrome\", **executable_path, headless=False)"
   ]
  },
  {
   "cell_type": "code",
   "execution_count": 55,
   "metadata": {},
   "outputs": [],
   "source": [
    "# Extract the relevant info\n",
    "\n",
    "browser = init_browser()\n",
    "\n",
    "url = 'https://en.wikipedia.org/wiki/List_of_current_United_States_senators'\n",
    "\n",
    "browser.visit(url)\n",
    "\n",
    "time.sleep(3)\n",
    "\n",
    "html = browser.html\n",
    "\n",
    "#Create BeautifulSoup object; parse with 'html.parser'\n",
    "\n",
    "soup = BeautifulSoup(html, 'html.parser')\n",
    "\n",
    "results = soup.find_all(\"a\", class_=\"image\")"
   ]
  },
  {
   "cell_type": "code",
   "execution_count": 53,
   "metadata": {},
   "outputs": [],
   "source": [
    "# Put in a list\n",
    "\n",
    "img_list = []\n",
    "\n",
    "for i in range(3, 103):\n",
    "    \n",
    "    img = results[i]['href']\n",
    "    \n",
    "    img_url = 'https://en.wikipedia.org' + img\n",
    "    \n",
    "    img_list.append(img_url)"
   ]
  },
  {
   "cell_type": "code",
   "execution_count": 59,
   "metadata": {},
   "outputs": [],
   "source": [
    "#Convert the list into Data Frame\n",
    "\n",
    "Image_df = pd.DataFrame(img_list, columns = ['url_link'])"
   ]
  },
  {
   "cell_type": "code",
   "execution_count": 61,
   "metadata": {},
   "outputs": [],
   "source": [
    "# Merge the names with their url\n",
    "\n",
    "Final_df = df.join(Image_df, how='inner')"
   ]
  },
  {
   "cell_type": "code",
   "execution_count": 64,
   "metadata": {},
   "outputs": [],
   "source": [
    "# Export to csv\n",
    "\n",
    "Final_df.to_csv('Images.csv', index = False)"
   ]
  },
  {
   "cell_type": "markdown",
   "metadata": {},
   "source": [
    "## Extract Alternate URL"
   ]
  },
  {
   "cell_type": "code",
   "execution_count": 114,
   "metadata": {
    "collapsed": true,
    "jupyter": {
     "outputs_hidden": true
    }
   },
   "outputs": [
    {
     "name": "stdout",
     "output_type": "stream",
     "text": [
      "https://upload.wikimedia.org/wikipedia/commons/thumb/c/c5/Richard_Shelby%2C_official_portrait%2C_112th_Congress_%28cropped%29.jpg/431px-Richard_Shelby%2C_official_portrait%2C_112th_Congress_%28cropped%29.jpg\n",
      "https://upload.wikimedia.org/wikipedia/commons/thumb/f/f0/Senator_Doug_Jones_official_photo_%28cropped_2%29.jpg/443px-Senator_Doug_Jones_official_photo_%28cropped_2%29.jpg\n",
      "https://upload.wikimedia.org/wikipedia/commons/thumb/4/4b/Lisa_Murkowski_official_photo_%28cropped%29.jpg/444px-Lisa_Murkowski_official_photo_%28cropped%29.jpg\n",
      "https://upload.wikimedia.org/wikipedia/commons/thumb/0/0e/Senator_Dan_Sullivan_official_%28cropped%29.jpg/553px-Senator_Dan_Sullivan_official_%28cropped%29.jpg\n",
      "https://upload.wikimedia.org/wikipedia/commons/thumb/9/92/Kyrsten_Sinema_by_Gage_Skidmore_%28cropped%29.jpg/450px-Kyrsten_Sinema_by_Gage_Skidmore_%28cropped%29.jpg\n",
      "https://upload.wikimedia.org/wikipedia/commons/thumb/0/04/Sen._Martha_McSally_official_Senate_headshot_116th_congress_%28cropped%29.jpg/480px-Sen._Martha_McSally_official_Senate_headshot_116th_congress_%28cropped%29.jpg\n",
      "https://upload.wikimedia.org/wikipedia/commons/thumb/3/36/John_Boozman%2C_official_portrait%2C_112th_Congress_%28cropped%29.jpg/439px-John_Boozman%2C_official_portrait%2C_112th_Congress_%28cropped%29.jpg\n",
      "https://upload.wikimedia.org/wikipedia/commons/6/66/Tom_Cotton_official_Senate_photo_%28cropped%29.jpg\n",
      "https://upload.wikimedia.org/wikipedia/commons/thumb/1/10/Dianne_Feinstein%2C_official_Senate_photo_2_%28cropped%29.jpg/451px-Dianne_Feinstein%2C_official_Senate_photo_2_%28cropped%29.jpg\n",
      "https://upload.wikimedia.org/wikipedia/commons/thumb/4/40/Kamala_Harris_official_photo_%28cropped%29.jpg/565px-Kamala_Harris_official_photo_%28cropped%29.jpg\n",
      "https://upload.wikimedia.org/wikipedia/commons/thumb/4/4d/Michael_Bennet_Official_Photo_%28cropped%29.jpg/463px-Michael_Bennet_Official_Photo_%28cropped%29.jpg\n",
      "https://upload.wikimedia.org/wikipedia/commons/thumb/3/3b/Cory_Gardner_official_Senate_portrait_%28cropped%29.jpeg/460px-Cory_Gardner_official_Senate_portrait_%28cropped%29.jpeg\n",
      "https://upload.wikimedia.org/wikipedia/commons/thumb/3/36/Richard_Blumenthal_Official_Portrait_%28cropped%29.jpg/595px-Richard_Blumenthal_Official_Portrait_%28cropped%29.jpg\n",
      "https://upload.wikimedia.org/wikipedia/commons/thumb/4/47/Chris_Murphy%2C_official_portrait%2C_113th_Congress_%28cropped%29.jpg/587px-Chris_Murphy%2C_official_portrait%2C_113th_Congress_%28cropped%29.jpg\n",
      "https://upload.wikimedia.org/wikipedia/commons/thumb/8/8e/Tom_Carper%2C_official_portrait%2C_112th_Congress_%28cropped%29.jpg/532px-Tom_Carper%2C_official_portrait%2C_112th_Congress_%28cropped%29.jpg\n",
      "https://upload.wikimedia.org/wikipedia/commons/thumb/9/99/Chris_Coons%2C_official_portrait%2C_112th_Congress_%28cropped%29.jpg/437px-Chris_Coons%2C_official_portrait%2C_112th_Congress_%28cropped%29.jpg\n",
      "https://upload.wikimedia.org/wikipedia/commons/thumb/c/c4/Senator_Rubio_official_portrait_%28cropped%29.jpg/441px-Senator_Rubio_official_portrait_%28cropped%29.jpg\n",
      "https://upload.wikimedia.org/wikipedia/commons/d/d7/Official_Portrait_of_Senator_Rick_Scott_%28cropped%29.jpg\n",
      "https://upload.wikimedia.org/wikipedia/commons/thumb/a/a2/David_Perdue%2C_Official_Portrait%2C_114th_Congress_%28cropped%29.jpg/548px-David_Perdue%2C_Official_Portrait%2C_114th_Congress_%28cropped%29.jpg\n",
      "https://upload.wikimedia.org/wikipedia/commons/thumb/f/fa/Kelly_Loeffler_%28cropped%29.jpg/611px-Kelly_Loeffler_%28cropped%29.jpg\n",
      "https://upload.wikimedia.org/wikipedia/commons/thumb/4/4b/Brian_Schatz%2C_official_portrait%2C_113th_Congress_2_%28cropped%29.jpg/434px-Brian_Schatz%2C_official_portrait%2C_113th_Congress_2_%28cropped%29.jpg\n",
      "https://upload.wikimedia.org/wikipedia/commons/thumb/8/85/Mazie_Hirono%2C_official_portrait%2C_113th_Congress_%28cropped%29.jpg/558px-Mazie_Hirono%2C_official_portrait%2C_113th_Congress_%28cropped%29.jpg\n",
      "https://upload.wikimedia.org/wikipedia/commons/thumb/3/3d/Mike_Crapo_Official_Photo_110th_Congress_%28cropped%29.jpg/561px-Mike_Crapo_Official_Photo_110th_Congress_%28cropped%29.jpg\n",
      "https://en.wikipedia.org/wiki/File:Jim_Risch_official_portrait_(cropped).jpg\n",
      "https://upload.wikimedia.org/wikipedia/commons/thumb/2/29/Richard_Durbin_official_photo_%28cropped%29.jpg/549px-Richard_Durbin_official_photo_%28cropped%29.jpg\n",
      "https://upload.wikimedia.org/wikipedia/commons/thumb/c/cc/Tammy_Duckworth_115th_official_portrait_%28cropped%29.jpg/536px-Tammy_Duckworth_115th_official_portrait_%28cropped%29.jpg\n",
      "https://upload.wikimedia.org/wikipedia/commons/thumb/0/0d/Senator_Todd_Young_official_portrait_%28cropped%29.jpg/450px-Senator_Todd_Young_official_portrait_%28cropped%29.jpg\n",
      "https://upload.wikimedia.org/wikipedia/commons/thumb/7/70/Mike_Braun%2C_Official_Portrait%2C_116th_Congress_%28cropped%29.jpg/481px-Mike_Braun%2C_Official_Portrait%2C_116th_Congress_%28cropped%29.jpg\n",
      "https://upload.wikimedia.org/wikipedia/commons/thumb/1/1c/Chuck_Grassley_official_photo_2017_%28cropped%29.jpg/480px-Chuck_Grassley_official_photo_2017_%28cropped%29.jpg\n",
      "https://upload.wikimedia.org/wikipedia/commons/thumb/7/74/Joni_Ernst%2C_official_portrait%2C_116th_Congress_3.jpg/474px-Joni_Ernst%2C_official_portrait%2C_116th_Congress_3.jpg\n",
      "https://upload.wikimedia.org/wikipedia/commons/d/d7/Pat_Roberts_official_Senate_photo_%28cropped%29.jpg\n",
      "https://upload.wikimedia.org/wikipedia/commons/thumb/d/d9/Jerry_Moran%2C_official_portrait%2C_112th_Congress_%28cropped%29.jpg/412px-Jerry_Moran%2C_official_portrait%2C_112th_Congress_%28cropped%29.jpg\n",
      "https://en.wikipedia.org/wiki/File:Sen_Mitch_McConnell_official_(cropped).jpg\n",
      "https://upload.wikimedia.org/wikipedia/commons/thumb/0/01/Rand_Paul%2C_official_portrait%2C_112th_Congress_alternate_%28cropped%29.jpg/532px-Rand_Paul%2C_official_portrait%2C_112th_Congress_alternate_%28cropped%29.jpg\n",
      "https://en.wikipedia.org/wiki/File:Bill_Cassidy_official_Senate_photo_(cropped).jpg\n",
      "https://en.wikipedia.org/wiki/File:John_Neely_Kennedy,_official_portrait,_115th_Congress.jpg\n",
      "https://en.wikipedia.org/wiki/File:Susan_Collins_official_Senate_photo_(cropped).jpg\n",
      "https://upload.wikimedia.org/wikipedia/commons/thumb/e/e9/Angus_King%2C_official_portrait%2C_113th_Congress_%28cropped%29.jpg/614px-Angus_King%2C_official_portrait%2C_113th_Congress_%28cropped%29.jpg\n",
      "https://upload.wikimedia.org/wikipedia/commons/thumb/e/e5/Ben_Cardin_official_Senate_portrait_%28cropped%29.jpg/437px-Ben_Cardin_official_Senate_portrait_%28cropped%29.jpg\n",
      "https://en.wikipedia.org/wiki/File:Chris_Van_Hollen_official_portrait_115th_Congress_(cropped).jpg\n",
      "https://upload.wikimedia.org/wikipedia/commons/thumb/8/82/Elizabeth_Warren%2C_official_portrait%2C_114th_Congress_%28cropped%29.jpg/409px-Elizabeth_Warren%2C_official_portrait%2C_114th_Congress_%28cropped%29.jpg\n",
      "https://upload.wikimedia.org/wikipedia/commons/thumb/5/58/Edward_Markey%2C_official_portrait%2C_114th_Congress_%28cropped%29.jpg/425px-Edward_Markey%2C_official_portrait%2C_114th_Congress_%28cropped%29.jpg\n",
      "https://upload.wikimedia.org/wikipedia/commons/thumb/6/61/Debbie_Stabenow%2C_official_photo%2C_116th_Congress_%28cropped%29.jpg/552px-Debbie_Stabenow%2C_official_photo%2C_116th_Congress_%28cropped%29.jpg\n",
      "https://upload.wikimedia.org/wikipedia/commons/thumb/9/98/Gary_Peters_official_photo_115th_congress_%28cropped%29.jpg/607px-Gary_Peters_official_photo_115th_congress_%28cropped%29.jpg\n",
      "https://upload.wikimedia.org/wikipedia/commons/thumb/3/3b/Amy_Klobuchar%2C_official_portrait%2C_113th_Congress_%28cropped%29.jpg/413px-Amy_Klobuchar%2C_official_portrait%2C_113th_Congress_%28cropped%29.jpg\n",
      "https://upload.wikimedia.org/wikipedia/commons/thumb/f/f8/Tina_Smith%2C_official_portrait%2C_116th_congress_%28cropped%29.jpg/480px-Tina_Smith%2C_official_portrait%2C_116th_congress_%28cropped%29.jpg\n",
      "https://upload.wikimedia.org/wikipedia/commons/thumb/f/f9/Roger_F._Wicker_crop.jpg/598px-Roger_F._Wicker_crop.jpg\n",
      "https://upload.wikimedia.org/wikipedia/commons/a/a2/Cindy_Hyde-Smith_official_photo_%28cropped%29.jpg\n",
      "https://upload.wikimedia.org/wikipedia/commons/thumb/7/74/Roy_Blunt%2C_Official_Portrait%2C_112th_Congress_%28cropped%29.jpg/447px-Roy_Blunt%2C_Official_Portrait%2C_112th_Congress_%28cropped%29.jpg\n",
      "https://upload.wikimedia.org/wikipedia/commons/thumb/b/ba/Josh_Hawley_%28cropped%29.jpg/446px-Josh_Hawley_%28cropped%29.jpg\n",
      "https://upload.wikimedia.org/wikipedia/commons/thumb/b/b9/JonTester_%28cropped%29.jpg/435px-JonTester_%28cropped%29.jpg\n",
      "https://en.wikipedia.org/wiki/File:Steve_Daines_official_Senate_portrait_(cropped).jpg\n",
      "https://upload.wikimedia.org/wikipedia/commons/0/0b/Deb_Fischer%2C_official_portrait%2C_115th_Congress_%28cropped%29.jpg\n",
      "https://upload.wikimedia.org/wikipedia/commons/thumb/d/d3/Ben_Sasse_Official_photo_%28cropped%29.jpg/436px-Ben_Sasse_Official_photo_%28cropped%29.jpg\n",
      "https://upload.wikimedia.org/wikipedia/commons/thumb/e/e7/Catherine_Cortez_Masto_official_portrait_%28cropped%29.jpg/446px-Catherine_Cortez_Masto_official_portrait_%28cropped%29.jpg\n",
      "https://en.wikipedia.org/wiki/File:Jacky_Rosen,_official_portrait,_116th_congress_(cropped-1).jpg\n",
      "https://upload.wikimedia.org/wikipedia/commons/thumb/2/21/Jeanne_Shaheen%2C_official_Senate_photo_portrait%2C_2009_%28cropped%29.jpg/539px-Jeanne_Shaheen%2C_official_Senate_photo_portrait%2C_2009_%28cropped%29.jpg\n",
      "https://upload.wikimedia.org/wikipedia/commons/thumb/a/ae/Maggie_Hassan%2C_official_portrait%2C_115th_Congress_%28cropped%29.jpg/435px-Maggie_Hassan%2C_official_portrait%2C_115th_Congress_%28cropped%29.jpg\n",
      "https://upload.wikimedia.org/wikipedia/commons/thumb/b/bb/Robert_Menendez_official_Senate_portrait_%28cropped%29.jpg/446px-Robert_Menendez_official_Senate_portrait_%28cropped%29.jpg\n",
      "https://en.wikipedia.org/wiki/File:Cory_Booker,_official_portrait,_114th_Congress.jpg\n",
      "https://upload.wikimedia.org/wikipedia/commons/thumb/6/6a/Tom_Udall_official_photo_%28cropped%29.jpg/456px-Tom_Udall_official_photo_%28cropped%29.jpg\n",
      "https://upload.wikimedia.org/wikipedia/commons/thumb/6/6f/Heinrich_Official_Headshot_2019_%28cropped%29.jpg/474px-Heinrich_Official_Headshot_2019_%28cropped%29.jpg\n",
      "https://upload.wikimedia.org/wikipedia/commons/thumb/3/3b/Chuck_Schumer_official_photo_%28cropped%29.jpg/409px-Chuck_Schumer_official_photo_%28cropped%29.jpg\n",
      "https://en.wikipedia.org/wiki/File:Kirsten_Gillibrand,_official_photo,_116th_Congress_(cropped).jpg\n",
      "https://upload.wikimedia.org/wikipedia/commons/thumb/b/b1/Richard_Burr_official_portrait_%28cropped%29.jpg/452px-Richard_Burr_official_portrait_%28cropped%29.jpg\n",
      "https://upload.wikimedia.org/wikipedia/commons/thumb/9/94/Thom_Tillis_Official_Photo_%28cropped%29.jpg/474px-Thom_Tillis_Official_Photo_%28cropped%29.jpg\n",
      "https://upload.wikimedia.org/wikipedia/commons/thumb/7/75/Hoeven_Official_Portrait_2014_%28cropped%29.JPG/427px-Hoeven_Official_Portrait_2014_%28cropped%29.JPG\n",
      "https://upload.wikimedia.org/wikipedia/commons/thumb/f/ff/Kevin_Cramer%2C_official_portrait%2C_116th_congress_%28cropped%29.jpg/432px-Kevin_Cramer%2C_official_portrait%2C_116th_congress_%28cropped%29.jpg\n",
      "https://upload.wikimedia.org/wikipedia/commons/thumb/f/f6/Sherrod_Brown_official_photo_2009_2_%28cropped%29.jpg/607px-Sherrod_Brown_official_photo_2009_2_%28cropped%29.jpg\n",
      "https://upload.wikimedia.org/wikipedia/commons/thumb/6/63/Rob_Portman_official_portrait_%28cropped%29.jpg/544px-Rob_Portman_official_portrait_%28cropped%29.jpg\n",
      "https://upload.wikimedia.org/wikipedia/commons/thumb/4/48/Jim_Inhofe_official_portrait_%28cropped%29.jpg/441px-Jim_Inhofe_official_portrait_%28cropped%29.jpg\n",
      "https://upload.wikimedia.org/wikipedia/commons/thumb/0/0b/James_Lankford_official_portrait_115th_congress_%28cropped%29.jpg/571px-James_Lankford_official_portrait_115th_congress_%28cropped%29.jpg\n",
      "https://en.wikipedia.org/wiki/File:Ron_Wyden_official_photo_(cropped).jpg\n",
      "https://upload.wikimedia.org/wikipedia/commons/thumb/e/ee/Jeff_Merkley%2C_115th_official_photo_%28cropped%29.jpg/565px-Jeff_Merkley%2C_115th_official_photo_%28cropped%29.jpg\n",
      "https://upload.wikimedia.org/wikipedia/commons/thumb/6/6d/Bob_Casey_Jr._official_photo_%28cropped%29.jpg/440px-Bob_Casey_Jr._official_photo_%28cropped%29.jpg\n",
      "https://upload.wikimedia.org/wikipedia/commons/thumb/5/5d/Pat_Toomey_official_photo_%28cropped%29.jpg/424px-Pat_Toomey_official_photo_%28cropped%29.jpg\n",
      "https://en.wikipedia.org/wiki/File:Senator_Jack_Reed_official_photo_(cropped).jpg\n",
      "https://upload.wikimedia.org/wikipedia/commons/thumb/a/a7/Sheldon_Whitehouse%2C_official_portrait%2C_116th_congress.jpg/614px-Sheldon_Whitehouse%2C_official_portrait%2C_116th_congress.jpg\n",
      "https://en.wikipedia.org/wiki/File:Lindsey_Graham,_official_photo,_113th_Congress_(cropped).jpg\n",
      "https://upload.wikimedia.org/wikipedia/commons/thumb/b/ba/Tim_Scott%2C_official_portrait%2C_113th_Congress_%28cropped_2%29.jpg/453px-Tim_Scott%2C_official_portrait%2C_113th_Congress_%28cropped_2%29.jpg\n",
      "https://upload.wikimedia.org/wikipedia/commons/thumb/c/c5/John_Thune%2C_official_portrait%2C_111th_Congress_%28cropped%29.jpg/534px-John_Thune%2C_official_portrait%2C_111th_Congress_%28cropped%29.jpg\n",
      "https://upload.wikimedia.org/wikipedia/commons/4/41/Mike_Rounds_official_Senate_portrait_%28cropped%29.jpg\n",
      "https://upload.wikimedia.org/wikipedia/commons/thumb/e/e2/Lamar_Alexander_official_photo_%28cropped%29.jpg/409px-Lamar_Alexander_official_photo_%28cropped%29.jpg\n",
      "https://upload.wikimedia.org/wikipedia/commons/thumb/0/05/Marsha_Blackburn%2C_official_photo%2C_116th_Congress_%28cropped%29.jpg/451px-Marsha_Blackburn%2C_official_photo%2C_116th_Congress_%28cropped%29.jpg\n",
      "https://upload.wikimedia.org/wikipedia/commons/e/e4/John_Cornyn_%28cropped%29.jpg\n",
      "https://upload.wikimedia.org/wikipedia/commons/thumb/9/94/Ted_Cruz_official_116th_portrait_%28cropped%29.jpg/576px-Ted_Cruz_official_116th_portrait_%28cropped%29.jpg\n",
      "https://upload.wikimedia.org/wikipedia/commons/thumb/4/46/Mike_Lee%2C_official_portrait_%28cropped%29.jpg/477px-Mike_Lee%2C_official_portrait_%28cropped%29.jpg\n",
      "https://upload.wikimedia.org/wikipedia/commons/thumb/f/f8/Mitt_Romney_official_US_Senate_portrait_%28cropped%29.jpg/448px-Mitt_Romney_official_US_Senate_portrait_%28cropped%29.jpg\n",
      "https://en.wikipedia.org/wiki/File:Patrick_Leahy_official_photo_(cropped).jpg\n",
      "https://en.wikipedia.org/wiki/File:Bernie_Sanders_(cropped).jpg\n",
      "https://en.wikipedia.org/wiki/File:Mark_Warner_113th_Congress_photo_(cropped).jpg\n",
      "https://upload.wikimedia.org/wikipedia/commons/thumb/7/76/Tim_Kaine_116th_official_portrait_%28cropped%29.jpg/490px-Tim_Kaine_116th_official_portrait_%28cropped%29.jpg\n",
      "https://upload.wikimedia.org/wikipedia/commons/thumb/9/9d/Patty_Murray%2C_official_portrait%2C_113th_Congress_%28cropped%29.jpg/455px-Patty_Murray%2C_official_portrait%2C_113th_Congress_%28cropped%29.jpg\n",
      "https://en.wikipedia.org/wiki/File:Maria_Cantwell_(cropped).jpg\n",
      "https://upload.wikimedia.org/wikipedia/commons/c/cc/Senator_Manchin_%28cropped%29.jpg\n",
      "https://upload.wikimedia.org/wikipedia/commons/thumb/3/37/Shelley_Moore_Capito_official_Senate_photo_%28cropped_2%29.jpg/445px-Shelley_Moore_Capito_official_Senate_photo_%28cropped_2%29.jpg\n",
      "https://upload.wikimedia.org/wikipedia/commons/thumb/3/33/Ron_Johnson%2C_official_portrait%2C_112th_Congress_%28cropped%29.jpg/464px-Ron_Johnson%2C_official_portrait%2C_112th_Congress_%28cropped%29.jpg\n",
      "https://upload.wikimedia.org/wikipedia/commons/thumb/7/7d/Tammy_Baldwin%2C_official_portrait%2C_113th_Congress_%28cropped%29.jpg/446px-Tammy_Baldwin%2C_official_portrait%2C_113th_Congress_%28cropped%29.jpg\n",
      "https://upload.wikimedia.org/wikipedia/commons/thumb/0/04/MIke_Enzi_official_portrait_115th_Congress_%28cropped%29.jpg/498px-MIke_Enzi_official_portrait_115th_Congress_%28cropped%29.jpg\n",
      "https://upload.wikimedia.org/wikipedia/commons/thumb/4/42/John_Barrasso_official_portrait_112th_Congress_%28cropped%29.jpg/614px-John_Barrasso_official_portrait_112th_Congress_%28cropped%29.jpg\n"
     ]
    }
   ],
   "source": [
    "img_list_final = []\n",
    "\n",
    "browser = init_browser()\n",
    "\n",
    "for url in img_list:\n",
    "    \n",
    "    browser = init_browser()\n",
    "\n",
    "    url_alt  = url\n",
    "\n",
    "    browser.visit(url_alt)\n",
    "\n",
    "    time.sleep(3)\n",
    "\n",
    "    html = browser.html\n",
    "\n",
    "    #Create BeautifulSoup object; parse with 'html.parser'\n",
    "\n",
    "    soup = BeautifulSoup(html, 'html.parser')\n",
    "\n",
    "    result_alt = soup.find_all(\"a\", class_=\"mw-thumbnail-link\")\n",
    "    \n",
    "    try:\n",
    "\n",
    "        extract = result_alt[3]['href']\n",
    "\n",
    "        final_url = 'https:' + extract\n",
    "    \n",
    "        img_list_final.append(final_url)\n",
    "    \n",
    "        print(final_url)\n",
    "        \n",
    "    except:\n",
    "        \n",
    "        img_list_final.append(url)\n",
    "        \n",
    "        print(url)"
   ]
  },
  {
   "cell_type": "code",
   "execution_count": 123,
   "metadata": {},
   "outputs": [],
   "source": [
    "#Convert the list into Data Frame\n",
    "\n",
    "Image_df2 = pd.DataFrame(img_list_final, columns = ['url_link_final'])"
   ]
  },
  {
   "cell_type": "code",
   "execution_count": null,
   "metadata": {},
   "outputs": [],
   "source": []
  }
 ],
 "metadata": {
  "kernelspec": {
   "display_name": "PythonData",
   "language": "python",
   "name": "pythondata"
  },
  "language_info": {
   "codemirror_mode": {
    "name": "ipython",
    "version": 3
   },
   "file_extension": ".py",
   "mimetype": "text/x-python",
   "name": "python",
   "nbconvert_exporter": "python",
   "pygments_lexer": "ipython3",
   "version": "3.8.1"
  }
 },
 "nbformat": 4,
 "nbformat_minor": 4
}
