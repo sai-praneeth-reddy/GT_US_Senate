{
 "cells": [
  {
   "cell_type": "code",
   "execution_count": 1,
   "metadata": {},
   "outputs": [],
   "source": [
    "import pandas as pd"
   ]
  },
  {
   "cell_type": "code",
   "execution_count": 2,
   "metadata": {},
   "outputs": [],
   "source": [
    "url = 'https://morningconsult.com/2019/01/10/americas-most-and-least-popular-senators-q4-2018-2/'"
   ]
  },
  {
   "cell_type": "code",
   "execution_count": 4,
   "metadata": {},
   "outputs": [],
   "source": [
    "tables = pd.read_html(url)\n",
    "tables"
   ]
  },
  {
   "cell_type": "code",
   "execution_count": 5,
   "metadata": {},
   "outputs": [
    {
     "data": {
      "text/html": [
       "<div>\n",
       "<style scoped>\n",
       "    .dataframe tbody tr th:only-of-type {\n",
       "        vertical-align: middle;\n",
       "    }\n",
       "\n",
       "    .dataframe tbody tr th {\n",
       "        vertical-align: top;\n",
       "    }\n",
       "\n",
       "    .dataframe thead th {\n",
       "        text-align: right;\n",
       "    }\n",
       "</style>\n",
       "<table border=\"1\" class=\"dataframe\">\n",
       "  <thead>\n",
       "    <tr style=\"text-align: right;\">\n",
       "      <th></th>\n",
       "      <th>State</th>\n",
       "      <th>Politician</th>\n",
       "      <th>Approve</th>\n",
       "      <th>Disapprove</th>\n",
       "      <th>Don't Know / No Opinion</th>\n",
       "      <th>Margin of Error</th>\n",
       "    </tr>\n",
       "  </thead>\n",
       "  <tbody>\n",
       "    <tr>\n",
       "      <th>0</th>\n",
       "      <td>Alabama</td>\n",
       "      <td>Richard Shelby</td>\n",
       "      <td>47%</td>\n",
       "      <td>27%</td>\n",
       "      <td>26%</td>\n",
       "      <td>1%</td>\n",
       "    </tr>\n",
       "    <tr>\n",
       "      <th>1</th>\n",
       "      <td>Alabama</td>\n",
       "      <td>Doug Jones</td>\n",
       "      <td>40%</td>\n",
       "      <td>35%</td>\n",
       "      <td>25%</td>\n",
       "      <td>1%</td>\n",
       "    </tr>\n",
       "    <tr>\n",
       "      <th>2</th>\n",
       "      <td>Alaska</td>\n",
       "      <td>Lisa Murkowski</td>\n",
       "      <td>39%</td>\n",
       "      <td>42%</td>\n",
       "      <td>19%</td>\n",
       "      <td>5%</td>\n",
       "    </tr>\n",
       "    <tr>\n",
       "      <th>3</th>\n",
       "      <td>Alaska</td>\n",
       "      <td>Dan Sullivan</td>\n",
       "      <td>40%</td>\n",
       "      <td>33%</td>\n",
       "      <td>27%</td>\n",
       "      <td>5%</td>\n",
       "    </tr>\n",
       "    <tr>\n",
       "      <th>4</th>\n",
       "      <td>Arizona</td>\n",
       "      <td>Jon Kyl</td>\n",
       "      <td>35%</td>\n",
       "      <td>24%</td>\n",
       "      <td>42%</td>\n",
       "      <td>1%</td>\n",
       "    </tr>\n",
       "  </tbody>\n",
       "</table>\n",
       "</div>"
      ],
      "text/plain": [
       "     State      Politician Approve Disapprove Don't Know / No Opinion  \\\n",
       "0  Alabama  Richard Shelby     47%        27%                     26%   \n",
       "1  Alabama      Doug Jones     40%        35%                     25%   \n",
       "2   Alaska  Lisa Murkowski     39%        42%                     19%   \n",
       "3   Alaska    Dan Sullivan     40%        33%                     27%   \n",
       "4  Arizona         Jon Kyl     35%        24%                     42%   \n",
       "\n",
       "  Margin of Error  \n",
       "0              1%  \n",
       "1              1%  \n",
       "2              5%  \n",
       "3              5%  \n",
       "4              1%  "
      ]
     },
     "execution_count": 5,
     "metadata": {},
     "output_type": "execute_result"
    }
   ],
   "source": [
    "df = tables[0]\n",
    "df.head()"
   ]
  },
  {
   "cell_type": "code",
   "execution_count": 6,
   "metadata": {},
   "outputs": [
    {
     "data": {
      "text/html": [
       "<div>\n",
       "<style scoped>\n",
       "    .dataframe tbody tr th:only-of-type {\n",
       "        vertical-align: middle;\n",
       "    }\n",
       "\n",
       "    .dataframe tbody tr th {\n",
       "        vertical-align: top;\n",
       "    }\n",
       "\n",
       "    .dataframe thead th {\n",
       "        text-align: right;\n",
       "    }\n",
       "</style>\n",
       "<table border=\"1\" class=\"dataframe\">\n",
       "  <thead>\n",
       "    <tr style=\"text-align: right;\">\n",
       "      <th></th>\n",
       "      <th>Politician</th>\n",
       "      <th>Approve</th>\n",
       "      <th>Disapprove</th>\n",
       "      <th>Don't Know / No Opinion</th>\n",
       "      <th>Margin of Error</th>\n",
       "    </tr>\n",
       "    <tr>\n",
       "      <th>State</th>\n",
       "      <th></th>\n",
       "      <th></th>\n",
       "      <th></th>\n",
       "      <th></th>\n",
       "      <th></th>\n",
       "    </tr>\n",
       "  </thead>\n",
       "  <tbody>\n",
       "    <tr>\n",
       "      <th>Alabama</th>\n",
       "      <td>Richard Shelby</td>\n",
       "      <td>47%</td>\n",
       "      <td>27%</td>\n",
       "      <td>26%</td>\n",
       "      <td>1%</td>\n",
       "    </tr>\n",
       "    <tr>\n",
       "      <th>Alabama</th>\n",
       "      <td>Doug Jones</td>\n",
       "      <td>40%</td>\n",
       "      <td>35%</td>\n",
       "      <td>25%</td>\n",
       "      <td>1%</td>\n",
       "    </tr>\n",
       "    <tr>\n",
       "      <th>Alaska</th>\n",
       "      <td>Lisa Murkowski</td>\n",
       "      <td>39%</td>\n",
       "      <td>42%</td>\n",
       "      <td>19%</td>\n",
       "      <td>5%</td>\n",
       "    </tr>\n",
       "    <tr>\n",
       "      <th>Alaska</th>\n",
       "      <td>Dan Sullivan</td>\n",
       "      <td>40%</td>\n",
       "      <td>33%</td>\n",
       "      <td>27%</td>\n",
       "      <td>5%</td>\n",
       "    </tr>\n",
       "    <tr>\n",
       "      <th>Arizona</th>\n",
       "      <td>Jon Kyl</td>\n",
       "      <td>35%</td>\n",
       "      <td>24%</td>\n",
       "      <td>42%</td>\n",
       "      <td>1%</td>\n",
       "    </tr>\n",
       "  </tbody>\n",
       "</table>\n",
       "</div>"
      ],
      "text/plain": [
       "             Politician Approve Disapprove Don't Know / No Opinion  \\\n",
       "State                                                                \n",
       "Alabama  Richard Shelby     47%        27%                     26%   \n",
       "Alabama      Doug Jones     40%        35%                     25%   \n",
       "Alaska   Lisa Murkowski     39%        42%                     19%   \n",
       "Alaska     Dan Sullivan     40%        33%                     27%   \n",
       "Arizona         Jon Kyl     35%        24%                     42%   \n",
       "\n",
       "        Margin of Error  \n",
       "State                    \n",
       "Alabama              1%  \n",
       "Alabama              1%  \n",
       "Alaska               5%  \n",
       "Alaska               5%  \n",
       "Arizona              1%  "
      ]
     },
     "execution_count": 6,
     "metadata": {},
     "output_type": "execute_result"
    }
   ],
   "source": [
    "df.set_index('State', inplace=True)\n",
    "df.head()"
   ]
  },
  {
   "cell_type": "code",
   "execution_count": 7,
   "metadata": {},
   "outputs": [],
   "source": [
    "df.to_csv('senator_approve_rate.csv')"
   ]
  },
  {
   "cell_type": "code",
   "execution_count": null,
   "metadata": {},
   "outputs": [],
   "source": [
    "# transfer to html\n",
    "#df.to_html('senator_approve_rate.html')"
   ]
  }
 ],
 "metadata": {
  "kernelspec": {
   "display_name": "PythonData",
   "language": "python",
   "name": "pythondata"
  },
  "language_info": {
   "codemirror_mode": {
    "name": "ipython",
    "version": 3
   },
   "file_extension": ".py",
   "mimetype": "text/x-python",
   "name": "python",
   "nbconvert_exporter": "python",
   "pygments_lexer": "ipython3",
   "version": "3.6.10"
  }
 },
 "nbformat": 4,
 "nbformat_minor": 4
}
