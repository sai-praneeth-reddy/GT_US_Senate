{
 "cells": [
  {
   "cell_type": "code",
   "execution_count": 1,
   "metadata": {},
   "outputs": [],
   "source": [
    "# import required libraries\n",
    "\n",
    "import json\n",
    "\n",
    "import pandas as pd\n",
    "\n",
    "import urllib.request as request"
   ]
  },
  {
   "cell_type": "code",
   "execution_count": 2,
   "metadata": {},
   "outputs": [],
   "source": [
    "# Read in the data from Json API\n",
    "\n",
    "with request.urlopen('https://www.govtrack.us/api/v2/role?current=true&role_type=senator') as response:\n",
    "        source = response.read()\n",
    "        data = json.loads(source)"
   ]
  },
  {
   "cell_type": "code",
   "execution_count": 3,
   "metadata": {},
   "outputs": [],
   "source": [
    "# Create Empty lists\n",
    "\n",
    "state_list = []\n",
    "\n",
    "name_list = []\n",
    "\n",
    "party_list = []\n",
    "\n",
    "gender_list = []\n",
    "\n",
    "enddate_list = []\n",
    "\n",
    "phone_list = []\n",
    "\n",
    "twitterid_list = []\n",
    "\n",
    "youtubeid_list = []\n",
    "\n",
    "website_list = []\n",
    "\n",
    "link_list = []"
   ]
  },
  {
   "cell_type": "code",
   "execution_count": 4,
   "metadata": {},
   "outputs": [],
   "source": [
    "for i in range(100):\n",
    "    \n",
    "    # Extract the relevant information\n",
    "    \n",
    "    state = data['objects'][i]['description']\n",
    "    \n",
    "    name = data['objects'][i]['person']['sortname']\n",
    "    \n",
    "    gender = data['objects'][i]['person']['gender_label']\n",
    "    \n",
    "    party = data['objects'][i]['party']\n",
    "    \n",
    "    enddate = data['objects'][i]['enddate']\n",
    "    \n",
    "    phone = data['objects'][i]['phone']\n",
    "    \n",
    "    twitterid = data['objects'][i]['person']['twitterid']\n",
    "    \n",
    "    youtubeid = data['objects'][i]['person']['youtubeid']\n",
    "    \n",
    "    website = data['objects'][i]['website']\n",
    "    \n",
    "    link = data['objects'][i]['person']['link']\n",
    "    \n",
    "    \n",
    "    # Appending to empty list\n",
    "    \n",
    "    state_list.append(state)\n",
    "    \n",
    "    party_list.append(party)\n",
    "    \n",
    "    name_list.append(name)\n",
    "    \n",
    "    gender_list.append(gender)\n",
    "    \n",
    "    enddate_list.append(enddate)\n",
    "    \n",
    "    phone_list.append(phone)\n",
    "    \n",
    "    twitterid_list.append(twitterid)\n",
    "    \n",
    "    youtubeid_list.append(youtubeid)\n",
    "    \n",
    "    website_list.append(website)\n",
    "    \n",
    "    link_list.append(link)   "
   ]
  },
  {
   "cell_type": "code",
   "execution_count": 5,
   "metadata": {},
   "outputs": [],
   "source": [
    "data_combine = {'Name':name_list, 'Gender':gender_list, 'Party':party_list, 'EndDate':enddate_list, 'Contact':phone_list, 'Twitter_ID':twitterid_list, 'Youtube_ID':youtubeid_list, 'Website':website_list, 'Link':link_list}"
   ]
  },
  {
   "cell_type": "code",
   "execution_count": 6,
   "metadata": {},
   "outputs": [],
   "source": [
    "# Converting lists to DataFrame\n",
    "\n",
    "df = pd.DataFrame(data_combine)"
   ]
  },
  {
   "cell_type": "code",
   "execution_count": 10,
   "metadata": {},
   "outputs": [],
   "source": [
    "df.to_csv('Card.csv')"
   ]
  },
  {
   "cell_type": "code",
   "execution_count": 96,
   "metadata": {},
   "outputs": [],
   "source": [
    "# Convert to dictionary\n",
    "\n",
    "values = df.to_dict(orient='records')"
   ]
  },
  {
   "cell_type": "code",
   "execution_count": 116,
   "metadata": {},
   "outputs": [],
   "source": [
    "# Convert the data to required format\n",
    "\n",
    "output = {}\n",
    "\n",
    "for i in range(100):\n",
    "    \n",
    "    output.update({state_list[i]:values[i]})"
   ]
  },
  {
   "cell_type": "code",
   "execution_count": 117,
   "metadata": {},
   "outputs": [
    {
     "data": {
      "text/plain": [
       "100"
      ]
     },
     "execution_count": 117,
     "metadata": {},
     "output_type": "execute_result"
    }
   ],
   "source": [
    "len(output)"
   ]
  },
  {
   "cell_type": "code",
   "execution_count": 118,
   "metadata": {},
   "outputs": [],
   "source": [
    "# Export to Json\n",
    "\n",
    "with open('Data/card_data.json', 'w') as fp:\n",
    "    json.dump(output, fp)"
   ]
  }
 ],
 "metadata": {
  "kernelspec": {
   "display_name": "PythonData",
   "language": "python",
   "name": "pythondata"
  },
  "language_info": {
   "codemirror_mode": {
    "name": "ipython",
    "version": 3
   },
   "file_extension": ".py",
   "mimetype": "text/x-python",
   "name": "python",
   "nbconvert_exporter": "python",
   "pygments_lexer": "ipython3",
   "version": "3.8.1"
  }
 },
 "nbformat": 4,
 "nbformat_minor": 4
}
